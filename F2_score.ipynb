{
 "cells": [
  {
   "cell_type": "code",
   "execution_count": 34,
   "id": "a1f0e730",
   "metadata": {},
   "outputs": [],
   "source": [
    "import numpy as np\n",
    "import cv2\n",
    "from matplotlib import pyplot as plt\n",
    "import random\n",
    "from tqdm import tqdm\n",
    "%matplotlib inline\n",
    "from PIL import Image, ImageDraw, ImageColor, ImageFont\n",
    "import os\n",
    "import pandas as pd"
   ]
  },
  {
   "cell_type": "code",
   "execution_count": 2,
   "id": "9570ee07",
   "metadata": {},
   "outputs": [],
   "source": [
    "def iou(pred, gt):\n",
    "    image = np.zeros((720, 1280))\n",
    "    p = image.copy()\n",
    "    \n",
    "    xp11 = pred['x'] #xMin\n",
    "    yp11 = pred['y'] #YMin\n",
    "    xp12 = xp11 + pred['width']\n",
    "    yp12 = yp11 + pred['height']\n",
    "    p[yp11:yp12, xp11:xp12] = 1\n",
    "    \n",
    "    \n",
    "    g = image.copy()\n",
    "    xp21 = gt['x'] #xMin\n",
    "    yp21 = gt['y'] #YMin\n",
    "    xp22 = xp21 + gt['width']\n",
    "    yp22 = yp21 + gt['height']\n",
    "    g[yp21:yp22, xp21:xp22] = 1\n",
    "    \n",
    "    \n",
    "    inter = cv2.bitwise_and(p, g)\n",
    "    union = cv2.bitwise_or(p, g)\n",
    "    \n",
    "    iou = np.count_nonzero(inter) / np.count_nonzero(union)\n",
    "    return iou"
   ]
  },
  {
   "cell_type": "code",
   "execution_count": 3,
   "id": "92c8a315",
   "metadata": {},
   "outputs": [],
   "source": [
    "def fbeta_score(precision, recall, beta=2):\n",
    "    return (1+beta**2)*precision*recall / ((beta**2)*precision + recall)"
   ]
  },
  {
   "cell_type": "code",
   "execution_count": 78,
   "id": "3b10c0ba",
   "metadata": {},
   "outputs": [],
   "source": [
    "def F2SingleImage(predictions, groundTruths, iouThreshold):\n",
    "    tp = 0\n",
    "    for pbox in predictions:\n",
    "        iou_temp = []\n",
    "        for gbox in groundTruths:\n",
    "            iou_temp.append(iou(pbox, gbox))\n",
    "        iou_max = max(iou_temp)\n",
    "        if iou_max >= iouThreshold:\n",
    "            tp += 1\n",
    "\n",
    "    precision = tp / len(predictions)\n",
    "    recall = tp / len(groundTruths)\n",
    "    if tp == 0:\n",
    "        score = 1\n",
    "    else:\n",
    "        score = fbeta_score(precision, recall, )\n",
    "    return (precision, recall, score)\n",
    "    "
   ]
  },
  {
   "cell_type": "code",
   "execution_count": 5,
   "id": "0d9dbdf6",
   "metadata": {},
   "outputs": [],
   "source": [
    "def plot_img(path, pre_bboxes, gt_bboxes):\n",
    "    img = Image.open(path)\n",
    "    fnt = ImageFont.truetype(\"/Library/Fonts/Arial.ttf\", 40)\n",
    "\n",
    "    for box in pre_bboxes:\n",
    "        shape = [(box['x'], box['y']), (box['x']+box['width'], box['y']+box['height'])]\n",
    "        ImageDraw.Draw(img).rectangle(shape, outline=\"red\", width=3)\n",
    "    for box in gt_bboxes:\n",
    "        shape = [(box['x'], box['y']), (box['x']+box['width'], box['y']+box['height'])]\n",
    "        ImageDraw.Draw(img).rectangle(shape, outline=\"blue\", width=3)\n",
    "#     ImageDraw.Draw(img).text((5, 5), str((pre_bboxes)), font=fnt) \n",
    "    display(img)"
   ]
  },
  {
   "cell_type": "code",
   "execution_count": 8,
   "id": "87cdc3dc",
   "metadata": {},
   "outputs": [],
   "source": [
    "path = 'train_images/video_1/9114.jpg'\n",
    "gt_bboxes = [{'x': 628, 'y': 321, 'width': 42, 'height': 47}, {'x': 893, 'y': 497, 'width': 65, 'height': 61}, {'x': 853, 'y': 413, 'width': 49, 'height': 44}, {'x': 749, 'y': 666, 'width': 57, 'height': 53}, {'x': 625, 'y': 669, 'width': 57, 'height': 48}, {'x': 402, 'y': 162, 'width': 46, 'height': 48}, {'x': 687, 'y': 159, 'width': 38, 'height': 39}, {'x': 639, 'y': 65, 'width': 44, 'height': 32}, {'x': 614, 'y': 72, 'width': 40, 'height': 33}, {'x': 830, 'y': 164, 'width': 56, 'height': 50}, {'x': 537, 'y': 154, 'width': 26, 'height': 25}, {'x': 357, 'y': 85, 'width': 33, 'height': 25}, {'x': 405, 'y': 323, 'width': 28, 'height': 30}, {'x': 677, 'y': 69, 'width': 46, 'height': 31}, {'x': 314, 'y': 105, 'width': 24, 'height': 21}, {'x': 650, 'y': 356, 'width': 27, 'height': 42}, {'x': 1129, 'y': 689, 'width': 59, 'height': 30}, {'x': 1140, 'y': 674, 'width': 69, 'height': 36}]\n",
    "pred_bboxes = [{'x': 628, 'y': 321, 'width': 140, 'height': 47}, {'x': 893, 'y': 497, 'width': 22, 'height': 61}, {'x': 853, 'y': 413, 'width': 49, 'height': 110}, {'x': 749, 'y': 666, 'width': 57, 'height': 23}, {'x': 625, 'y': 669, 'width': 57, 'height': 96}, {'x': 402, 'y': 162, 'width': 46, 'height': 2}, {'x': 687, 'y': 159, 'width': 38, 'height': 65}, {'x': 639, 'y': 65, 'width': 28, 'height': 32}, {'x': 614, 'y': 72, 'width': 28, 'height': 33}, {'x': 830, 'y': 164, 'width': 76, 'height': 50}, {'x': 537, 'y': 154, 'width': 32, 'height': 25}, {'x': 357, 'y': 85, 'width': 33, 'height': 30}, {'x': 405, 'y': 323, 'width': 28, 'height': 27}, {'x': 677, 'y': 69, 'width': 48, 'height': 31}, {'x': 314, 'y': 105, 'width': 24, 'height': 21}, {'x': 650, 'y': 356, 'width': 40, 'height': 42}, {'x': 1129, 'y': 689, 'width': 46, 'height': 30}, {'x': 1140, 'y': 674, 'width': 70, 'height': 35}]"
   ]
  },
  {
   "cell_type": "code",
   "execution_count": 11,
   "id": "72040e84",
   "metadata": {},
   "outputs": [
    {
     "data": {
      "text/plain": [
       "(0.7222222222222222, 0.7222222222222222, 0.7222222222222222)"
      ]
     },
     "execution_count": 11,
     "metadata": {},
     "output_type": "execute_result"
    }
   ],
   "source": [
    "confidence_threshold = 0.5\n",
    "F2SingleImage(pred_bboxes,gt_bboxes,confidence_threshold)"
   ]
  },
  {
   "cell_type": "code",
   "execution_count": 35,
   "id": "276669b7",
   "metadata": {},
   "outputs": [
    {
     "data": {
      "text/html": [
       "<div>\n",
       "<style scoped>\n",
       "    .dataframe tbody tr th:only-of-type {\n",
       "        vertical-align: middle;\n",
       "    }\n",
       "\n",
       "    .dataframe tbody tr th {\n",
       "        vertical-align: top;\n",
       "    }\n",
       "\n",
       "    .dataframe thead th {\n",
       "        text-align: right;\n",
       "    }\n",
       "</style>\n",
       "<table border=\"1\" class=\"dataframe\">\n",
       "  <thead>\n",
       "    <tr style=\"text-align: right;\">\n",
       "      <th></th>\n",
       "      <th>video_id</th>\n",
       "      <th>sequence</th>\n",
       "      <th>video_frame</th>\n",
       "      <th>sequence_frame</th>\n",
       "      <th>image_id</th>\n",
       "      <th>annotations</th>\n",
       "      <th>filepath</th>\n",
       "    </tr>\n",
       "  </thead>\n",
       "  <tbody>\n",
       "    <tr>\n",
       "      <th>0</th>\n",
       "      <td>0</td>\n",
       "      <td>40258</td>\n",
       "      <td>0</td>\n",
       "      <td>0</td>\n",
       "      <td>0-0</td>\n",
       "      <td>[]</td>\n",
       "      <td>train_images/video_0/0.jpg</td>\n",
       "    </tr>\n",
       "    <tr>\n",
       "      <th>1</th>\n",
       "      <td>0</td>\n",
       "      <td>40258</td>\n",
       "      <td>1</td>\n",
       "      <td>1</td>\n",
       "      <td>0-1</td>\n",
       "      <td>[]</td>\n",
       "      <td>train_images/video_0/1.jpg</td>\n",
       "    </tr>\n",
       "    <tr>\n",
       "      <th>2</th>\n",
       "      <td>0</td>\n",
       "      <td>40258</td>\n",
       "      <td>2</td>\n",
       "      <td>2</td>\n",
       "      <td>0-2</td>\n",
       "      <td>[]</td>\n",
       "      <td>train_images/video_0/2.jpg</td>\n",
       "    </tr>\n",
       "    <tr>\n",
       "      <th>3</th>\n",
       "      <td>0</td>\n",
       "      <td>40258</td>\n",
       "      <td>3</td>\n",
       "      <td>3</td>\n",
       "      <td>0-3</td>\n",
       "      <td>[]</td>\n",
       "      <td>train_images/video_0/3.jpg</td>\n",
       "    </tr>\n",
       "    <tr>\n",
       "      <th>4</th>\n",
       "      <td>0</td>\n",
       "      <td>40258</td>\n",
       "      <td>4</td>\n",
       "      <td>4</td>\n",
       "      <td>0-4</td>\n",
       "      <td>[]</td>\n",
       "      <td>train_images/video_0/4.jpg</td>\n",
       "    </tr>\n",
       "    <tr>\n",
       "      <th>...</th>\n",
       "      <td>...</td>\n",
       "      <td>...</td>\n",
       "      <td>...</td>\n",
       "      <td>...</td>\n",
       "      <td>...</td>\n",
       "      <td>...</td>\n",
       "      <td>...</td>\n",
       "    </tr>\n",
       "    <tr>\n",
       "      <th>23496</th>\n",
       "      <td>2</td>\n",
       "      <td>29859</td>\n",
       "      <td>10755</td>\n",
       "      <td>2983</td>\n",
       "      <td>2-10755</td>\n",
       "      <td>[]</td>\n",
       "      <td>train_images/video_2/10755.jpg</td>\n",
       "    </tr>\n",
       "    <tr>\n",
       "      <th>23497</th>\n",
       "      <td>2</td>\n",
       "      <td>29859</td>\n",
       "      <td>10756</td>\n",
       "      <td>2984</td>\n",
       "      <td>2-10756</td>\n",
       "      <td>[]</td>\n",
       "      <td>train_images/video_2/10756.jpg</td>\n",
       "    </tr>\n",
       "    <tr>\n",
       "      <th>23498</th>\n",
       "      <td>2</td>\n",
       "      <td>29859</td>\n",
       "      <td>10757</td>\n",
       "      <td>2985</td>\n",
       "      <td>2-10757</td>\n",
       "      <td>[]</td>\n",
       "      <td>train_images/video_2/10757.jpg</td>\n",
       "    </tr>\n",
       "    <tr>\n",
       "      <th>23499</th>\n",
       "      <td>2</td>\n",
       "      <td>29859</td>\n",
       "      <td>10758</td>\n",
       "      <td>2986</td>\n",
       "      <td>2-10758</td>\n",
       "      <td>[]</td>\n",
       "      <td>train_images/video_2/10758.jpg</td>\n",
       "    </tr>\n",
       "    <tr>\n",
       "      <th>23500</th>\n",
       "      <td>2</td>\n",
       "      <td>29859</td>\n",
       "      <td>10759</td>\n",
       "      <td>2987</td>\n",
       "      <td>2-10759</td>\n",
       "      <td>[]</td>\n",
       "      <td>train_images/video_2/10759.jpg</td>\n",
       "    </tr>\n",
       "  </tbody>\n",
       "</table>\n",
       "<p>23501 rows × 7 columns</p>\n",
       "</div>"
      ],
      "text/plain": [
       "       video_id  sequence  video_frame  sequence_frame image_id annotations  \\\n",
       "0             0     40258            0               0      0-0          []   \n",
       "1             0     40258            1               1      0-1          []   \n",
       "2             0     40258            2               2      0-2          []   \n",
       "3             0     40258            3               3      0-3          []   \n",
       "4             0     40258            4               4      0-4          []   \n",
       "...         ...       ...          ...             ...      ...         ...   \n",
       "23496         2     29859        10755            2983  2-10755          []   \n",
       "23497         2     29859        10756            2984  2-10756          []   \n",
       "23498         2     29859        10757            2985  2-10757          []   \n",
       "23499         2     29859        10758            2986  2-10758          []   \n",
       "23500         2     29859        10759            2987  2-10759          []   \n",
       "\n",
       "                             filepath  \n",
       "0          train_images/video_0/0.jpg  \n",
       "1          train_images/video_0/1.jpg  \n",
       "2          train_images/video_0/2.jpg  \n",
       "3          train_images/video_0/3.jpg  \n",
       "4          train_images/video_0/4.jpg  \n",
       "...                               ...  \n",
       "23496  train_images/video_2/10755.jpg  \n",
       "23497  train_images/video_2/10756.jpg  \n",
       "23498  train_images/video_2/10757.jpg  \n",
       "23499  train_images/video_2/10758.jpg  \n",
       "23500  train_images/video_2/10759.jpg  \n",
       "\n",
       "[23501 rows x 7 columns]"
      ]
     },
     "execution_count": 35,
     "metadata": {},
     "output_type": "execute_result"
    }
   ],
   "source": [
    "data_df = pd.read_csv('train.csv')\n",
    "data_df['annotations'] = data_df['annotations'].map(lambda x : eval(x))\n",
    "data_df['filepath'] = data_df.apply(lambda x : f\"train_images/video_{x.video_id}/{x.video_frame}.jpg\", axis=1)\n",
    "data_df"
   ]
  },
  {
   "cell_type": "code",
   "execution_count": 79,
   "id": "8d132cc1",
   "metadata": {},
   "outputs": [
    {
     "name": "stderr",
     "output_type": "stream",
     "text": [
      "100%|█████████████████████████████████████████| 401/401 [05:10<00:00,  1.29it/s]\n"
     ]
    }
   ],
   "source": [
    "output_dir = 'labels/'\n",
    "\n",
    "precision_lst, recall_lst = [[],[],[],[],[],[],[],[],[],[],[]], [[],[],[],[],[],[],[],[],[],[],[]]\n",
    "f2_score_lst = [[],[],[],[],[],[],[],[],[],[],[]]\n",
    "for file in tqdm(os.listdir(output_dir)):\n",
    "    idx = file.find('_')\n",
    "    filepath = 'train_images/video_' + file[0] + '/' + file[2:idx] + '.jpg'\n",
    "    path = os.path.join(output_dir, file)\n",
    "    pred_bboxes = []\n",
    "    with open(path) as f:\n",
    "        for line in f.readlines():\n",
    "            (xc, yc, w, h) = line.strip('\\n').split(' ')[1:]\n",
    "            width = int(eval(w) * 1280)\n",
    "            height = int(eval(h) * 720)\n",
    "            x = int(eval(xc) * 1280 - 0.5 * width)\n",
    "            y = int(eval(yc) * 720 - 0.5 * height)\n",
    "            pred_bboxes.append({'x': x, 'y':y, 'width':width, 'height':height})\n",
    "    gt_bboxes = data_df[data_df.filepath == filepath].iloc[0]['annotations']\n",
    "    for i in range(11):\n",
    "        confidence_threshold = round(0.3 + 0.05 * i, 2)\n",
    "        (precision, recall, score) = F2SingleImage(pred_bboxes, gt_bboxes, confidence_threshold)\n",
    "        f2_score_lst[i].append(score)\n",
    "        precision_lst[i].append(precision)\n",
    "        recall_lst[i].append(recall)\n"
   ]
  },
  {
   "cell_type": "code",
   "execution_count": 83,
   "id": "41d2e940",
   "metadata": {},
   "outputs": [
    {
     "name": "stdout",
     "output_type": "stream",
     "text": [
      "Confidence threshold: 0.30\t f2 score: 0.866\n",
      "Confidence threshold: 0.35\t f2 score: 0.864\n",
      "Confidence threshold: 0.40\t f2 score: 0.862\n",
      "Confidence threshold: 0.45\t f2 score: 0.861\n",
      "Confidence threshold: 0.50\t f2 score: 0.857\n",
      "Confidence threshold: 0.55\t f2 score: 0.851\n",
      "Confidence threshold: 0.60\t f2 score: 0.840\n",
      "Confidence threshold: 0.65\t f2 score: 0.825\n",
      "Confidence threshold: 0.70\t f2 score: 0.802\n",
      "Confidence threshold: 0.75\t f2 score: 0.791\n",
      "Confidence threshold: 0.80\t f2 score: 0.816\n"
     ]
    }
   ],
   "source": [
    "for i in range(11):\n",
    "    confidence_threshold = round(0.3 + 0.05 * i, 2)\n",
    "    f2_score_avg = np.average(f2_score_lst[i])\n",
    "#     precision_avg = np.average(precision_lst[i])\n",
    "#     recall_avg = np.average(recall_lst[i])\n",
    "#     f2_score_avg = fbeta_score(precision_avg, recall_avg, )\n",
    "    print(f\"Confidence threshold: {confidence_threshold:.2f}\\t f2 score: {f2_score_avg:.3f}\")"
   ]
  },
  {
   "cell_type": "code",
   "execution_count": 73,
   "id": "d5024c2b",
   "metadata": {},
   "outputs": [
    {
     "data": {
      "text/plain": [
       "[{'x': 639, 'y': 386, 'width': 41, 'height': 51},\n",
       " {'x': 276, 'y': 45, 'width': 50, 'height': 45}]"
      ]
     },
     "execution_count": 73,
     "metadata": {},
     "output_type": "execute_result"
    }
   ],
   "source": [
    "path = 'labels/1-4477_jpg.rf.683f420847c960b86cefc4b0cb58b9a5.txt'\n",
    "pred_bboxes = []\n",
    "with open(path) as f: \n",
    "    for line in f.readlines():\n",
    "        (xc, yc, w, h) = line.strip('\\n').split(' ')[1:]\n",
    "        width = int(eval(w) * 1280)\n",
    "        height = int(eval(h) * 720)\n",
    "        x = int(eval(xc) * 1280 - 0.5 * width)\n",
    "        y = int(eval(yc) * 720 - 0.5 * height)\n",
    "        pred_bboxes.append({'x': x, 'y':y, 'width':width, 'height':height})\n",
    "        \n",
    "pred_bboxes"
   ]
  },
  {
   "cell_type": "code",
   "execution_count": 74,
   "id": "0bcae160",
   "metadata": {},
   "outputs": [
    {
     "data": {
      "text/plain": [
       "'train_images/video_1/4477.jpg'"
      ]
     },
     "execution_count": 74,
     "metadata": {},
     "output_type": "execute_result"
    }
   ],
   "source": [
    "file = '1-4477_jpg.rf.b0c73973136ab30f18cba753618c2165.txt'\n",
    "idx = file.find('_')\n",
    "filepath = 'train_images/video_' + file[0] + '/' + file[2:idx] + '.jpg'\n",
    "filepath"
   ]
  },
  {
   "cell_type": "code",
   "execution_count": 75,
   "id": "7c7aae19",
   "metadata": {},
   "outputs": [
    {
     "data": {
      "text/plain": [
       "[{'x': 639, 'y': 386, 'width': 41, 'height': 51},\n",
       " {'x': 276, 'y': 45, 'width': 51, 'height': 45}]"
      ]
     },
     "execution_count": 75,
     "metadata": {},
     "output_type": "execute_result"
    }
   ],
   "source": [
    "data_df[data_df.filepath == filepath].iloc[0]['annotations']"
   ]
  },
  {
   "cell_type": "code",
   "execution_count": 77,
   "id": "c27db341",
   "metadata": {},
   "outputs": [
    {
     "ename": "ZeroDivisionError",
     "evalue": "division by zero",
     "output_type": "error",
     "traceback": [
      "\u001b[0;31m---------------------------------------------------------------------------\u001b[0m",
      "\u001b[0;31mZeroDivisionError\u001b[0m                         Traceback (most recent call last)",
      "Input \u001b[0;32mIn [77]\u001b[0m, in \u001b[0;36m<cell line: 1>\u001b[0;34m()\u001b[0m\n\u001b[0;32m----> 1\u001b[0m \u001b[38;5;241;43m0\u001b[39;49m\u001b[38;5;241;43m/\u001b[39;49m\u001b[38;5;241;43m0\u001b[39;49m\n",
      "\u001b[0;31mZeroDivisionError\u001b[0m: division by zero"
     ]
    }
   ],
   "source": [
    "0/0"
   ]
  },
  {
   "cell_type": "code",
   "execution_count": null,
   "id": "5e7eb7e2",
   "metadata": {},
   "outputs": [],
   "source": []
  }
 ],
 "metadata": {
  "kernelspec": {
   "display_name": "Python 3 (ipykernel)",
   "language": "python",
   "name": "python3"
  },
  "language_info": {
   "codemirror_mode": {
    "name": "ipython",
    "version": 3
   },
   "file_extension": ".py",
   "mimetype": "text/x-python",
   "name": "python",
   "nbconvert_exporter": "python",
   "pygments_lexer": "ipython3",
   "version": "3.9.13"
  }
 },
 "nbformat": 4,
 "nbformat_minor": 5
}
